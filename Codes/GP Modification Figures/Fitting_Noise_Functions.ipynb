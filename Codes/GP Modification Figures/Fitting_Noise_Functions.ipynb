{
 "cells": [
  {
   "cell_type": "code",
   "execution_count": 1,
   "metadata": {
    "id": "Pk4bwQjL6FTh"
   },
   "outputs": [],
   "source": [
    "from gpcam import GPOptimizer\n",
    "\n",
    "import numpy as np\n",
    "from numpy.random import default_rng\n",
    "import random\n",
    "\n",
    "import matplotlib.pyplot as plt\n",
    "import plotly.graph_objects as go\n",
    "\n",
    "import os\n",
    "import csv\n",
    "import math"
   ]
  },
  {
   "cell_type": "code",
   "execution_count": 2,
   "metadata": {
    "id": "esXtxaj96VVb"
   },
   "outputs": [],
   "source": [
    "def plot(x, y, xlabel = \"x\", ylabel = 'y'):\n",
    "    plt.figure(figsize = (20,10))\n",
    "    plt.plot(x,y)\n",
    "    plt.xlabel(xlabel)\n",
    "    plt.ylabel(ylabel)\n",
    "    plt.show()\n",
    "\n",
    "def scatter(x,y, xlabel = \"x\", ylabel = 'y'):\n",
    "    plt.figure(figsize = (20,10))\n",
    "    plt.scatter(x,y)\n",
    "    plt.xlabel(xlabel)\n",
    "    plt.ylabel(ylabel)\n",
    "    plt.show()\n",
    "\n",
    "def plotUQ(x, y, var, xlabel = \"x\", ylabel = 'y'):\n",
    "    plt.figure(figsize = (20,10))\n",
    "    plt.plot(x,y)\n",
    "    plt.fill_between(x,y - 3. * np.sqrt(var), y + 3. * np.sqrt(var), alpha = 0.5, color = \"grey\")\n",
    "    plt.xlabel(xlabel)\n",
    "    plt.ylabel(ylabel)\n",
    "    plt.show()\n",
    "\n",
    "def plot_model(x, y, var , data = (), xlabel = \"x\", ylabel = 'y'):\n",
    "    plt.figure(figsize = (20,10))\n",
    "    plt.plot(x,y)\n",
    "    plt.scatter(data[0],data[1], color = \"black\")\n",
    "    plt.fill_between(x,y - 1. * np.sqrt(var), y + 1. * np.sqrt(var), alpha = 0.5, color = \"grey\")\n",
    "    plt.xlabel(xlabel)\n",
    "    plt.ylabel(ylabel)\n",
    "    plt.ylim(np.min(y_data),np.max(y_data))\n",
    "    plt.show()"
   ]
  },
  {
   "cell_type": "markdown",
   "metadata": {
    "id": "_3HP87fb7Bmq"
   },
   "source": [
    "**Loading the Data**"
   ]
  },
  {
   "cell_type": "code",
   "execution_count": 3,
   "metadata": {
    "colab": {
     "base_uri": "https://localhost:8080/",
     "height": 923
    },
    "executionInfo": {
     "elapsed": 1972,
     "status": "ok",
     "timestamp": 1690495043382,
     "user": {
      "displayName": "Maher Alghalayini",
      "userId": "14727376703760943485"
     },
     "user_tz": 420
    },
    "id": "XQ3xNtnJ6d19",
    "outputId": "0d0db362-b730-4c02-8f20-1511ec4787f0"
   },
   "outputs": [
    {
     "name": "stdout",
     "output_type": "stream",
     "text": [
      "[5546, 9477, 2231, 4437, 7059, 5259, 8330, 1068, 8214, 5888, 3275, 6845, 7671, 299, 5038, 3503, 8673, 2236, 3644, 4980, 993, 7545, 654, 1418, 6090, 7936, 8792, 6910, 2933, 2382, 9730, 8476, 1882, 7986, 7091, 4813, 3086, 3908, 1539, 8567, 2152, 5738, 8646, 9692, 2661, 6766, 7230, 512, 758, 2881]\n",
      "energy_data:  (50, 50)\n"
     ]
    }
   ],
   "source": [
    "energy_data_all = np.load(\"/data/Synthetic Data Generation_1/my_synthetic_energy.npy\")\n",
    "cycle_number = np.load(\"/data/Synthetic Data Generation_1/my_synthetic_cycleNum.npy\")\n",
    "\n",
    "\n",
    "\n",
    "label_size = 30\n",
    "\n",
    "num_of_datasets = 50\n",
    "\n",
    "#considered_batteries = np.array([0,1,2,3,4,5,6,7,8,9,10,11,12,13,14,15,16,17,18,19,20,21,22,23,24])\n",
    "#considered_batteries = random.sample(range(0,int(1e4)), num_of_datasets)\n",
    "\n",
    "considered_batteries = ([5546, 9477, 2231, 4437, 7059, 5259, 8330, 1068, 8214, 5888, 3275, 6845, 7671, \n",
    "                         299, 5038, 3503, 8673, 2236, 3644, 4980, 993, 7545, 654, 1418, 6090, 7936, 8792, \n",
    "                         6910, 2933, 2382, 9730, 8476, 1882, 7986, 7091, 4813, 3086, 3908, 1539, 8567, 2152, \n",
    "                         5738, 8646, 9692, 2661, 6766, 7230, 512, 758, 2881])\n",
    "\n",
    "\n",
    "print(considered_batteries)\n",
    "\n",
    "plt.figure(figsize = (20,10))\n",
    "for i in considered_batteries: plt.scatter(cycle_number,energy_data_all[int(i)])\n",
    "\n",
    "plt.tick_params(axis='both', which='major', labelsize=label_size) # Set the font size of the tick labels on the x and y axes\n",
    "plt.xlabel(\"Cycle Number\",fontsize=label_size)\n",
    "plt.ylabel(\"Energy\",fontsize=label_size)\n",
    "plt.show()\n",
    "\n",
    "#print(\"max y: \", np.max(energy_data_all))\n",
    "\n",
    "# Initializing the data to fit the GP model\n",
    "data_size = num_of_datasets\n",
    "\n",
    "# All Data\n",
    "energy_data = energy_data_all[considered_batteries] \n",
    "\n",
    "\n",
    "print(\"energy_data: \", energy_data.shape)"
   ]
  },
  {
   "cell_type": "markdown",
   "metadata": {
    "id": "0ms5T39C84FS"
   },
   "source": [
    "**Calculating Variance**"
   ]
  },
  {
   "cell_type": "code",
   "execution_count": 4,
   "metadata": {
    "colab": {
     "base_uri": "https://localhost:8080/",
     "height": 913
    },
    "executionInfo": {
     "elapsed": 578,
     "status": "ok",
     "timestamp": 1690495045623,
     "user": {
      "displayName": "Maher Alghalayini",
      "userId": "14727376703760943485"
     },
     "user_tz": 420
    },
    "id": "1NQLTZ7183EL",
    "outputId": "c7df8667-e93a-4564-9bc3-4f9ab8664cc9"
   },
   "outputs": [
    {
     "name": "stdout",
     "output_type": "stream",
     "text": [
      "x data:  (50, 1)\n",
      "y data:  (50, 1)\n"
     ]
    }
   ],
   "source": [
    "# Checking the variability trend in the data\n",
    "\n",
    "variances = np.var(energy_data, axis=0)\n",
    "stds = np.sqrt(variances)\n",
    "'''\n",
    "# Plotting the data\n",
    "plt.figure(figsize = (15,10))\n",
    "plt.plot(cycle_number,stds, color = \"red\", linewidth = 3)\n",
    "plt.xlabel(\"Cycle Number\",fontsize=label_size)\n",
    "plt.ylabel(\"Energy Standard Deviation\",fontsize=label_size)\n",
    "plt.tick_params(axis='both', which='major', labelsize=label_size) # Set the font size of the tick labels on the x and y axes\n",
    "plt.show()\n",
    "\n",
    "'''\n",
    "\n",
    "x_pred = np.linspace(0,1000,1001).reshape(-1,1)\n",
    "\n",
    "# Data\n",
    "x_data = cycle_number.reshape(-1, 1) # repeat cycle 20 times to create x_data\n",
    "y_data = stds.reshape(-1, 1) # stack energy rows to create y_data\n",
    "\n",
    "\n",
    "print(\"x data: \", x_data.shape)\n",
    "print(\"y data: \", y_data.shape)\n"
   ]
  },
  {
   "cell_type": "markdown",
   "metadata": {},
   "source": [
    "# Creating the Subfolder in Results"
   ]
  },
  {
   "cell_type": "code",
   "execution_count": null,
   "metadata": {},
   "outputs": [],
   "source": [
    "# Specify the path for the new folder\n",
    "new_folder_path = f\"/results/Methods Figures\"\n",
    "\n",
    "# Create the folder\n",
    "os.makedirs(new_folder_path, exist_ok=True)"
   ]
  },
  {
   "cell_type": "markdown",
   "metadata": {
    "id": "-ym8M1n39iMG"
   },
   "source": [
    "# GP Components"
   ]
  },
  {
   "cell_type": "code",
   "execution_count": 5,
   "metadata": {
    "id": "pBLQKutZ9dkp"
   },
   "outputs": [],
   "source": [
    "def get_distance_matrix(x1,x2):\n",
    "    d = np.zeros((len(x1),len(x2)))\n",
    "    for i in range(x1.shape[1]):\n",
    "        d += (x1[:,i].reshape(-1, 1) - x2[:,i])**2\n",
    "    return np.sqrt(d + 1e-16)\n",
    "\n",
    "# For the Noise\n",
    "def s(x, my_slope, my_pow, my_intercept):\n",
    "    o = my_slope * (x**my_pow) + my_intercept\n",
    "    return o\n",
    "\n",
    "\n",
    "def my_noise(x,hps,obj):\n",
    "\n",
    "    my_slope     = hps[2]\n",
    "    my_pow       = hps[3]\n",
    "    my_intercept = hps[4]\n",
    "    \n",
    "    noise = np.identity(len(x)) * s(x,my_slope,my_pow,my_intercept)\n",
    "\n",
    "    return noise\n",
    "\n",
    "def kernel(x1,x2,hps,obj):\n",
    "    d = get_distance_matrix(x1,x2) \n",
    "    k = hps[0] * obj.squared_exponential_kernel(d,hps[1])\n",
    "    return k\n",
    "\n",
    "\n",
    "\n",
    "# Mean Function\n",
    "def mean1(x,hps,obj):\n",
    "    a = hps[5]\n",
    "    b = hps[6]\n",
    "    y = a * x[:,0] + b\n",
    "\n",
    "    return y\n",
    "\n",
    "def mean2(x,hps,obj):\n",
    "    y = hps[2]*np.exp(hps[3]*x[:,0]) + hps[4]\n",
    "    return y\n",
    "\n",
    "\n",
    "def mean3(x,hps,obj):\n",
    "\n",
    "    a = hps[2]\n",
    "    b = hps[3]\n",
    "    c = hps[4]\n",
    "\n",
    "    y = a * x[:,0]**b + c\n",
    "\n",
    "    return y"
   ]
  },
  {
   "cell_type": "markdown",
   "metadata": {
    "id": "2lQz6jGK3HEi"
   },
   "source": [
    "# 1 - Linear Model"
   ]
  },
  {
   "cell_type": "code",
   "execution_count": 19,
   "metadata": {
    "colab": {
     "base_uri": "https://localhost:8080/",
     "height": 889
    },
    "executionInfo": {
     "elapsed": 6723,
     "status": "ok",
     "timestamp": 1690496013200,
     "user": {
      "displayName": "Maher Alghalayini",
      "userId": "14727376703760943485"
     },
     "user_tz": 420
    },
    "id": "2j2RtHu73IaZ",
    "outputId": "3d7c4810-f8cf-4d04-96b9-3325ccf2501e"
   },
   "outputs": [],
   "source": [
    "# Initializing the GP Model\n",
    "init_hyperparameters = np.array(  [2.27027694e+01, 2.93069911e+02, 1.16049159e-07, 2.65767924e+00,\n",
    " 1.44496831e-02, 3.34321589e-02, 9.30930652e-01])\n",
    "\n",
    "\n",
    "my_gp = GPOptimizer(x_data,y_data,\n",
    "            init_hyperparameters = init_hyperparameters,  # we need enough of those for kernel, noise and prior mean functions\n",
    "            compute_device='cpu', \n",
    "            gp_kernel_function=kernel,\n",
    "            gp_kernel_function_grad=None, \n",
    "            gp_mean_function=mean1, \n",
    "            gp_mean_function_grad=None,\n",
    "            gp_noise_function=my_noise,\n",
    "            normalize_y=False,\n",
    "            sparse_mode=False,\n",
    "            gp2Scale = False,\n",
    "            store_inv=False, \n",
    "            ram_economy=False, \n",
    "            args=None)\n",
    "\n",
    "\n",
    "\n",
    "# Setting the Optimization Bounds for Hyperparameters\n",
    "bounds = np.empty((7,2))\n",
    "\n",
    "# Kernel Sq Exp\n",
    "bounds[0] = np.array([1e-5,6000.])                     # Kernel Variance\n",
    "bounds[1] = np.array([100.,1000.])                     # Kernel Lengthscale\n",
    "\n",
    "# Noise\n",
    "bounds[2] = np.array([1e-10,1.])                       # Noise Slope\n",
    "bounds[3] = np.array([2,5.])                           # Noise Power\n",
    "bounds[4] = np.array([0.,6.])                          # Noise Intercept\n",
    "# Mean\n",
    "bounds[5] = np.array([1e-5,2.])                      # Mean slope\n",
    "bounds[6] = np.array([-1.,2.])                       # Mean intercept\n",
    "\n",
    "#my_gp.train(hyperparameter_bounds=bounds,max_iter=100)\n",
    "\n"
   ]
  },
  {
   "cell_type": "code",
   "execution_count": 8,
   "metadata": {
    "colab": {
     "base_uri": "https://localhost:8080/",
     "height": 923
    },
    "executionInfo": {
     "elapsed": 540,
     "status": "ok",
     "timestamp": 1690496017746,
     "user": {
      "displayName": "Maher Alghalayini",
      "userId": "14727376703760943485"
     },
     "user_tz": 420
    },
    "id": "yKby6alF3IaZ",
    "outputId": "390e0d34-fc1c-431b-d183-f6a2a40a2d73"
   },
   "outputs": [
    {
     "name": "stdout",
     "output_type": "stream",
     "text": [
      "hps:  [2.27027694e+01 2.93069911e+02 1.16049159e-07 2.65767924e+00\n",
      " 1.44496831e-02 3.34321589e-02 9.30930652e-01]\n"
     ]
    }
   ],
   "source": [
    "# Plotting the prior\n",
    "print(\"hps: \", my_gp.hyperparameters)\n",
    "\n",
    "trained_hps = np.array(  [2.27027694e+01, 2.93069911e+02, 1.16049159e-07, 2.65767924e+00,\n",
    " 1.44496831e-02, 3.34321589e-02, 9.30930652e-01])\n",
    "\n",
    "trained_prior_y_linear = mean1(x_pred,my_gp.hyperparameters,2)\n",
    "#trained_prior_y = mean1(x_pred,trained_hps,2)\n",
    "\n",
    "# Plotting the data\n",
    "plt.figure(figsize = (15,10))\n",
    "#plt.plot(x_pred,prior_y, color = \"blue\", linewidth = 3, label = \"Prior\")\n",
    "plt.plot(x_data,y_data, color = \"red\", linewidth = 3, label = \"Synthetic Data\")\n",
    "plt.plot(x_pred,trained_prior_y_linear, color = \"blue\", linewidth = 3, label = \"Trained Noise Model\")\n",
    "plt.xlabel(\"Cycle Number\",fontsize=label_size)\n",
    "plt.ylabel(\"QoI Standard Deviation\",fontsize=label_size)\n",
    "plt.tick_params(axis='both', which='major', labelsize=label_size) # Set the font size of the tick labels on the x and y axes\n",
    "plt.legend(fontsize=label_size,frameon=False)\n",
    "#lt.show()\n",
    "\n",
    "plt.savefig(\"/results/Methods Figures/Linear Noise Model.png\", dpi=600)\n"
   ]
  },
  {
   "cell_type": "markdown",
   "metadata": {
    "id": "baSWGjWhI4we"
   },
   "source": [
    "# 2 - Exponential Model"
   ]
  },
  {
   "cell_type": "code",
   "execution_count": 18,
   "metadata": {
    "colab": {
     "base_uri": "https://localhost:8080/",
     "height": 948
    },
    "executionInfo": {
     "elapsed": 7218,
     "status": "ok",
     "timestamp": 1690495187450,
     "user": {
      "displayName": "Maher Alghalayini",
      "userId": "14727376703760943485"
     },
     "user_tz": 420
    },
    "id": "HtLNs2ieI72k",
    "outputId": "0553dbea-0d69-46ad-c6a9-f13c26edb5d6"
   },
   "outputs": [
    {
     "data": {
      "text/plain": [
       "array([ 7.72770255e+00,  1.18740292e+02,  2.40998259e+01,  9.99935449e-04,\n",
       "       -2.47835147e+01])"
      ]
     },
     "execution_count": 18,
     "metadata": {},
     "output_type": "execute_result"
    }
   ],
   "source": [
    "# Initializing the GP Model\n",
    "init_hyperparameters = np.array([7.67525612e+00,  1.18831225e+02,  2.42683334e+01,  9.99641530e-04,\n",
    " -2.53199081e+01])\n",
    "\n",
    "\n",
    "\n",
    "\n",
    "my_gp1 = GPOptimizer(x_data,y_data,\n",
    "            init_hyperparameters = init_hyperparameters,  # we need enough of those for kernel, noise and prior mean functions\n",
    "            compute_device='cpu', \n",
    "            gp_kernel_function=kernel,\n",
    "            gp_kernel_function_grad=None, \n",
    "            gp_mean_function=mean2, \n",
    "            gp_mean_function_grad=None,\n",
    "            #gp_noise_function=my_noise,\n",
    "            normalize_y=False,\n",
    "            sparse_mode=False,\n",
    "            gp2Scale = False,\n",
    "            store_inv=False, \n",
    "            ram_economy=False, \n",
    "            args=None)\n",
    "\n",
    "# Setting the Optimization Bounds for Hyperparameters\n",
    "bounds = np.empty((5,2))\n",
    "\n",
    "# Kernel Sq Exp\n",
    "bounds[0] = np.array([1e-5,6000.])                     # Kernel Variance\n",
    "bounds[1] = np.array([100.,1000.])                     # Kernel Lengthscale\n",
    "\n",
    "# Noise\n",
    "#bounds[2] = np.array([1e-10,1.])                       # Noise Slope\n",
    "#bounds[3] = np.array([1e-5,5.])                           # Noise Power\n",
    "#bounds[4] = np.array([0.,6.])                          # Noise Intercept\n",
    "# Mean\n",
    "bounds[2] = np.array([0.,1e3])                        # Mean slope\n",
    "bounds[3] = np.array([0.,1e-3])                          \n",
    "bounds[4] = np.array([-100,100])                          \n",
    "\n",
    "my_gp1.train(hyperparameter_bounds=bounds,max_iter=100)\n"
   ]
  },
  {
   "cell_type": "markdown",
   "metadata": {
    "id": "Og-n_CFPJfVg"
   },
   "source": [
    "## Plotting Trained Prior"
   ]
  },
  {
   "cell_type": "code",
   "execution_count": 20,
   "metadata": {
    "colab": {
     "base_uri": "https://localhost:8080/",
     "height": 941
    },
    "executionInfo": {
     "elapsed": 708,
     "status": "ok",
     "timestamp": 1690495192877,
     "user": {
      "displayName": "Maher Alghalayini",
      "userId": "14727376703760943485"
     },
     "user_tz": 420
    },
    "id": "iV1wAAQ6Je7O",
    "outputId": "d9164f5d-73ae-42d1-f8b4-d5399d93b905"
   },
   "outputs": [
    {
     "name": "stdout",
     "output_type": "stream",
     "text": [
      "hps:  [ 7.72770255e+00  1.18740292e+02  2.40998259e+01  9.99935449e-04\n",
      " -2.47835147e+01]\n"
     ]
    }
   ],
   "source": [
    "# Plotting the prior\n",
    "print(\"hps: \", my_gp1.hyperparameters)\n",
    "\n",
    "trained_hps = np.array([7.67525612e+00,  1.18831225e+02,  2.42683334e+01,  9.99641530e-04,\n",
    " -2.53199081e+01])\n",
    "\n",
    "#trained_prior_y = mean2(x_pred,my_gp1.hyperparameters,2)\n",
    "\n",
    "trained_prior_y_exponential = mean2(x_pred,trained_hps,2)\n",
    "\n",
    "\n",
    "# Plotting the data\n",
    "plt.figure(figsize = (15,10))\n",
    "#plt.plot(x_pred,prior_y, color = \"blue\", linewidth = 3, label = \"Prior\")\n",
    "plt.plot(x_data,y_data, color = \"red\", linewidth = 3, label = \"Synthetic Data\")\n",
    "plt.plot(x_pred,trained_prior_y_exponential, color = \"blue\", linewidth = 3, label = \"Trained Noise Model\")\n",
    "plt.xlabel(\"Cycle Number\",fontsize=label_size)\n",
    "plt.ylabel(\"QoI Standard Deviation\",fontsize=label_size)\n",
    "plt.tick_params(axis='both', which='major', labelsize=label_size) # Set the font size of the tick labels on the x and y axes\n",
    "plt.legend(fontsize=label_size,frameon=False)\n",
    "#plt.show()\n",
    "\n",
    "plt.savefig(\"/results/Methods Figures/Exponential Noise Model.png\", dpi=600)\n"
   ]
  },
  {
   "cell_type": "markdown",
   "metadata": {
    "id": "uMsQrNUpPVVG"
   },
   "source": [
    "# 3 - Power Law Model"
   ]
  },
  {
   "cell_type": "code",
   "execution_count": 21,
   "metadata": {
    "colab": {
     "base_uri": "https://localhost:8080/",
     "height": 885
    },
    "executionInfo": {
     "elapsed": 8664,
     "status": "ok",
     "timestamp": 1690495830067,
     "user": {
      "displayName": "Maher Alghalayini",
      "userId": "14727376703760943485"
     },
     "user_tz": 420
    },
    "id": "Drw1METIPVVR",
    "outputId": "13a73552-a12b-4942-89bd-accc31a2db6e"
   },
   "outputs": [
    {
     "data": {
      "text/plain": [
       "array([3.19436320e+00, 1.00051499e+02, 4.53671036e-05, 1.97710607e+00,\n",
       "       2.37397522e+00])"
      ]
     },
     "execution_count": 21,
     "metadata": {},
     "output_type": "execute_result"
    }
   ],
   "source": [
    "# Initializing the GP Model\n",
    "init_hyperparameters = np.array( [6.18307113e+00, 1.23421060e+02, 7.57041819e-06, 2.24447839e+00,\n",
    " 1.99782453e+00])\n",
    "\n",
    "my_gp2 = GPOptimizer(x_data,y_data,\n",
    "            init_hyperparameters = init_hyperparameters,  # we need enough of those for kernel, noise and prior mean functions\n",
    "            compute_device='cpu', \n",
    "            gp_kernel_function=kernel,\n",
    "            gp_kernel_function_grad=None, \n",
    "            gp_mean_function=mean3, \n",
    "            gp_mean_function_grad=None,\n",
    "            #gp_noise_function=my_noise,\n",
    "            normalize_y=False,\n",
    "            sparse_mode=False,\n",
    "            gp2Scale = False,\n",
    "            store_inv=False, \n",
    "            ram_economy=False, \n",
    "            args=None)\n",
    "\n",
    "# Setting the Optimization Bounds for Hyperparameters\n",
    "bounds = np.empty((5,2))\n",
    "\n",
    "# Kernel Sq Exp\n",
    "bounds[0] = np.array([1e-5,6000.])                     # Kernel Variance\n",
    "bounds[1] = np.array([100.,1000.])                     # Kernel Lengthscale\n",
    "\n",
    "# Noise\n",
    "#bounds[2] = np.array([1e-10,1.])                       # Noise Slope\n",
    "#bounds[3] = np.array([1e-5,5.])                           # Noise Power\n",
    "#bounds[4] = np.array([0.,6.])                          # Noise Intercept\n",
    "# Mean\n",
    "bounds[2] = np.array([0,1e-2])                        # Mean slope\n",
    "bounds[3] = np.array([1.,5.])                          \n",
    "bounds[4] = np.array([0.,5.])                          \n",
    "\n",
    "my_gp2.train(hyperparameter_bounds=bounds,max_iter=150)\n"
   ]
  },
  {
   "cell_type": "code",
   "execution_count": 22,
   "metadata": {
    "colab": {
     "base_uri": "https://localhost:8080/",
     "height": 941
    },
    "executionInfo": {
     "elapsed": 881,
     "status": "ok",
     "timestamp": 1690495842506,
     "user": {
      "displayName": "Maher Alghalayini",
      "userId": "14727376703760943485"
     },
     "user_tz": 420
    },
    "id": "XET7LmMYPVVS",
    "outputId": "c4cddceb-13a2-449b-9c6e-897f7d6758e4"
   },
   "outputs": [
    {
     "name": "stdout",
     "output_type": "stream",
     "text": [
      "hps:  [3.19436320e+00 1.00051499e+02 4.53671036e-05 1.97710607e+00\n",
      " 2.37397522e+00]\n"
     ]
    }
   ],
   "source": [
    "# Plotting the prior\n",
    "print(\"hps: \", my_gp2.hyperparameters)\n",
    "\n",
    "trained_hps = np.array( [6.18307113e+00, 1.23421060e+02, 7.57041819e-06, 2.24447839e+00,\n",
    " 1.99782453e+00])\n",
    "\n",
    "trained_prior_y_powerlaw = mean3(x_pred,my_gp2.hyperparameters,2)\n",
    "#trained_prior_y_powerlaw = mean3(x_pred,trained_hps,2)\n",
    "\n",
    "\n",
    "# Plotting the data\n",
    "plt.figure(figsize = (15,10))\n",
    "#plt.plot(x_pred,prior_y, color = \"blue\", linewidth = 3, label = \"Prior\")\n",
    "plt.plot(x_data,y_data, color = \"red\", linewidth = 3, label = \"Synthetic Data\")\n",
    "plt.plot(x_pred,trained_prior_y_powerlaw, color = \"blue\", linewidth = 3, label = \"Trained Noise Model\")\n",
    "plt.xlabel(\"Cycle Number\",fontsize=label_size)\n",
    "plt.ylabel(\"QoI Standard Deviation\",fontsize=label_size)\n",
    "plt.tick_params(axis='both', which='major', labelsize=label_size) # Set the font size of the tick labels on the x and y axes\n",
    "plt.legend(fontsize=label_size,frameon=False)\n",
    "#plt.show()\n",
    "\n",
    "plt.savefig(\"/results/Methods Figures/Power Noise Model.png\", dpi=600)\n"
   ]
  },
  {
   "cell_type": "markdown",
   "metadata": {
    "id": "nWyClpvOaTZP"
   },
   "source": [
    "# Plotting all models together"
   ]
  },
  {
   "cell_type": "code",
   "execution_count": 23,
   "metadata": {},
   "outputs": [],
   "source": [
    "GT_hps = np.array([0,0,                      # kernel - Not Needed here\n",
    "                   1.002e-05,  2.69, 3,      # Noise\n",
    "                500,-0.05,-0.2])             # Mean\n",
    "\n",
    "GT_stds =  np.sqrt(mean3(cycle_number, GT_hps, 2))\n",
    "\n",
    "\n",
    "# Plotting the data\n",
    "plt.figure(figsize = (10,10))\n",
    "#plt.plot(x_pred,prior_y, color = \"blue\", linewidth = 3, label = \"Prior\")\n",
    "#plt.plot(x_data,y_data, color = \"blue\", linewidth = 7, linestyle='--', label = \"Data\")\n",
    "plt.plot(x_data,GT_stds, color = \"blue\", linewidth = 7, linestyle='--', label = \"Ground Truth Noise\")\n",
    "\n",
    "plt.plot(x_pred,trained_prior_y_linear, color = \"green\", linewidth = 7, label = \"Linear\")\n",
    "plt.plot(x_pred,trained_prior_y_exponential, color = \"red\", linewidth = 7, label = \"Exponential\")\n",
    "plt.plot(x_pred,trained_prior_y_powerlaw, color = \"black\", linewidth = 7, label = \"Power Law\")\n",
    "plt.xlabel(\"Cycle Number\",fontsize=label_size)\n",
    "plt.ylabel(\"QoI Standard Deviation\",fontsize=label_size)\n",
    "plt.tick_params(axis='both', which='major', labelsize=label_size) # Set the font size of the tick labels on the x and y axes\n",
    "plt.legend(fontsize=label_size,frameon=False)\n",
    "plt.xlim([0,1000])\n",
    "plt.ylim([-1,42])\n",
    "plt.xticks([0,250,500,750,1000])\n",
    "plt.yticks([0,10,20,30,40])\n",
    "#plt.show()\n",
    "plt.savefig('/results/Methods Figures/All Noise Models.pdf', bbox_inches='tight')\n"
   ]
  },
  {
   "cell_type": "code",
   "execution_count": null,
   "metadata": {},
   "outputs": [],
   "source": []
  }
 ],
 "metadata": {
  "colab": {
   "authorship_tag": "ABX9TyMimXF3KfhPrmUz+u4KZxx2",
   "provenance": []
  },
  "kernelspec": {
   "display_name": "Python 3 (ipykernel)",
   "language": "python",
   "name": "python3"
  },
  "language_info": {
   "codemirror_mode": {
    "name": "ipython",
    "version": 3
   },
   "file_extension": ".py",
   "mimetype": "text/x-python",
   "name": "python",
   "nbconvert_exporter": "python",
   "pygments_lexer": "ipython3",
   "version": "3.9.12"
  }
 },
 "nbformat": 4,
 "nbformat_minor": 4
}
