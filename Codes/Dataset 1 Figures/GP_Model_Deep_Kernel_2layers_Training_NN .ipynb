{
 "cells": [
  {
   "cell_type": "code",
   "execution_count": 3,
   "id": "93da119d",
   "metadata": {},
   "outputs": [],
   "source": [
    "import numpy as np\n",
    "from numpy.random import default_rng\n",
    "\n",
    "from gpcam import GPOptimizer\n",
    "\n",
    "import torch\n",
    "from torch import nn\n",
    "\n",
    "import matplotlib.pyplot as plt\n",
    "import plotly.graph_objects as go\n",
    "\n",
    "import os\n",
    "import csv\n",
    "\n",
    "from scipy.stats import entropy\n",
    "\n",
    "import random"
   ]
  },
  {
   "cell_type": "markdown",
   "id": "cc540f0b",
   "metadata": {},
   "source": [
    "# Import Data"
   ]
  },
  {
   "cell_type": "code",
   "execution_count": 4,
   "id": "c5d106b4",
   "metadata": {},
   "outputs": [
    {
     "name": "stdout",
     "output_type": "stream",
     "text": [
      "max y:  363.5404228825251\n"
     ]
    }
   ],
   "source": [
    "energy_data_total = np.load(\"/data/Dataset 1/energy.npy\")\n",
    "cycle_number_total = np.load(\"/data/Dataset 1/cycle.npy\")\n",
    "\n",
    "\n",
    "# use slicing to select every other column and all rows\n",
    "energy_data = energy_data_total[:, ::2]\n",
    "cycle_number = cycle_number_total[::2]\n",
    "\n",
    "num_of_datasets = len(energy_data[:,0])\n",
    "\n",
    "label_size = 30\n",
    "plt.figure(figsize = (20,10))\n",
    "for i in range(len(energy_data)): plt.scatter(cycle_number,energy_data[i]) \n",
    "\n",
    "plt.tick_params(axis='both', which='major', labelsize=label_size) # Set the font size of the tick labels on the x and y axes\n",
    "plt.xlabel(\"Cycle Number\",fontsize=label_size) \n",
    "plt.ylabel(\"Energy\",fontsize=label_size)\n",
    "plt.show()\n",
    "\n",
    "\n",
    "# Creating the cycle_data array with the same shape of energy_data, where all rows have the same values as cycle_number_range. This results in 1 row repeated 22 times.\n",
    "#cycle_data = np.full_like(energy_data, cycle_number_range)\n",
    "\n",
    "print(\"max y: \", np.max(energy_data))"
   ]
  },
  {
   "cell_type": "markdown",
   "id": "0eeff2ba-0d77-47e4-af67-3bb53dfa4f2e",
   "metadata": {},
   "source": [
    "# Creating the Subfolder in Results"
   ]
  },
  {
   "cell_type": "code",
   "execution_count": 1,
   "id": "c87a015e-4a56-4058-9968-f61acd7644da",
   "metadata": {},
   "outputs": [
    {
     "ename": "NameError",
     "evalue": "name 'os' is not defined",
     "output_type": "error",
     "traceback": [
      "\u001b[0;31m---------------------------------------------------------------------------\u001b[0m",
      "\u001b[0;31mNameError\u001b[0m                                 Traceback (most recent call last)",
      "Cell \u001b[0;32mIn[1], line 5\u001b[0m\n\u001b[1;32m      2\u001b[0m new_folder_path \u001b[38;5;241m=\u001b[39m \u001b[38;5;124mf\u001b[39m\u001b[38;5;124m\"\u001b[39m\u001b[38;5;124m/results/Dataset 1 Figures/Training NN/\u001b[39m\u001b[38;5;124m\"\u001b[39m\n\u001b[1;32m      4\u001b[0m \u001b[38;5;66;03m# Create the folder\u001b[39;00m\n\u001b[0;32m----> 5\u001b[0m \u001b[43mos\u001b[49m\u001b[38;5;241m.\u001b[39mmakedirs(new_folder_path, exist_ok\u001b[38;5;241m=\u001b[39m\u001b[38;5;28;01mTrue\u001b[39;00m)\n",
      "\u001b[0;31mNameError\u001b[0m: name 'os' is not defined"
     ]
    }
   ],
   "source": [
    "# Specify the path for the new folder\n",
    "new_folder_path = f\"/results/Dataset 1 Figures/Training NN/\"\n",
    "\n",
    "# Create the folder\n",
    "os.makedirs(new_folder_path, exist_ok=True)\n"
   ]
  },
  {
   "cell_type": "markdown",
   "id": "5d154103",
   "metadata": {},
   "source": [
    "# Deep Kernel Learning"
   ]
  },
  {
   "cell_type": "code",
   "execution_count": 5,
   "id": "2a7627ea",
   "metadata": {},
   "outputs": [],
   "source": [
    "# All remaining code asssumes that the NN architecture is made up of two hidden layers and same number of nodes\n",
    "# If other architectures are used, the indices of the hyperparameters and their boudsn need to be changed accordingly\n",
    "# Number of nodes can be varied as the user prefer\n",
    "\n",
    "class Network(nn.Module):\n",
    "    def __init__(self):\n",
    "        super().__init__()\n",
    "\n",
    "        self.nodes_num = 5\n",
    "\n",
    "        # Inputs to hidden layer linear transformation\n",
    "        self.layer1 = nn.Linear(1, self.nodes_num)\n",
    "        self.layer2 = nn.Linear(self.nodes_num, self.nodes_num)\n",
    "        self.layer3 = nn.Linear(self.nodes_num, 1)\n",
    "\n",
    "    def forward(self, x):\n",
    "        # Pass the input tensor through each of our operations\n",
    "        #print(x)\n",
    "        x = torch.Tensor(x)\n",
    "        x = torch.nn.functional.relu(self.layer1(x))\n",
    "        x = torch.nn.functional.relu(self.layer2(x))\n",
    "        x = torch.nn.functional.relu(self.layer3(x))\n",
    "        return x.detach().numpy()\n",
    "\n",
    "    def set_weights(self,w1,w2,w3):\n",
    "      with torch.no_grad():\n",
    "        self.layer1.weight = nn.Parameter(torch.from_numpy(w1).float())\n",
    "        self.layer2.weight = nn.Parameter(torch.from_numpy(w2).float())\n",
    "        self.layer3.weight = nn.Parameter(torch.from_numpy(w3).float())\n",
    "\n",
    "    def set_biases(self,b1,b2,b3):\n",
    "      with torch.no_grad():\n",
    "        self.layer1.bias = nn.Parameter(torch.from_numpy(b1).float())\n",
    "        self.layer2.bias = nn.Parameter(torch.from_numpy(b2).float())\n",
    "        self.layer3.bias = nn.Parameter(torch.from_numpy(b3).float())\n",
    "\n",
    "    def get_weights(self):\n",
    "        return self.layer1.weight, self.layer2.weight, self.layer3.weight\n",
    "    def get_biases(self):\n",
    "        return self.layer1.bias, self.layer2.bias, self.layer3.bias\n",
    "\n",
    "n = Network()\n"
   ]
  },
  {
   "cell_type": "markdown",
   "id": "b8677fad",
   "metadata": {},
   "source": [
    "# Defining GP Components"
   ]
  },
  {
   "cell_type": "code",
   "execution_count": 6,
   "id": "d04cfe2c",
   "metadata": {},
   "outputs": [],
   "source": [
    "# For the squared Exponential Function\n",
    "def get_distance_matrix(x1,x2):\n",
    "    d = np.zeros((len(x1),len(x2)))\n",
    "    for i in range(x1.shape[1]):\n",
    "        d += (x1[:,i].reshape(-1, 1) - x2[:,i])**2\n",
    "    return np.sqrt(d)\n",
    "\n",
    "# For the Noise\n",
    "def s(x, my_slope, my_pow, my_intercept):\n",
    "    o = my_slope * x**my_pow + my_intercept\n",
    "    return o\n",
    "\n",
    "def my_noise(x,hps,obj):\n",
    "\n",
    "    total_num_of_NN_hps = obj.args[1]\n",
    "\n",
    "    my_slope     = hps[total_num_of_NN_hps+1]\n",
    "    my_pow       = hps[total_num_of_NN_hps+2]\n",
    "    my_intercept = hps[total_num_of_NN_hps+3]\n",
    "\n",
    "    my_s = s(x,my_slope,my_pow,my_intercept)\n",
    "\n",
    "    noise = np.diag(my_s[:,0])\n",
    "    \n",
    "    return noise\n",
    "\n",
    "# Kernel Function\n",
    "def kernel_nn(x1,x2,hps,obj):\n",
    "\n",
    "    nodes_num           = obj.args[0]\n",
    "    total_num_of_NN_hps = obj.args[1]\n",
    "\n",
    "    # NN\n",
    "    n.set_weights(hps[0:nodes_num].reshape(nodes_num,1),\n",
    "                  hps[nodes_num:nodes_num**2+nodes_num].reshape(nodes_num,nodes_num),\n",
    "                  hps[nodes_num**2+nodes_num:nodes_num**2+2*nodes_num].reshape(1,nodes_num))\n",
    "\n",
    "    n.set_biases(hps[nodes_num**2+2*nodes_num:nodes_num**2+3*nodes_num].reshape(nodes_num),\n",
    "                 hps[nodes_num**2+3*nodes_num:nodes_num**2+4*nodes_num].reshape(nodes_num),\n",
    "                 np.array([hps[nodes_num**2+4*nodes_num]]))\n",
    "\n",
    "    x1_nn = n.forward(x1).reshape(-1,1)\n",
    "    x2_nn = n.forward(x2).reshape(-1,1)\n",
    "    d = get_distance_matrix(x1_nn,x2_nn)\n",
    "\n",
    "\n",
    "    # Main Function\n",
    "    k = hps[total_num_of_NN_hps] * obj.squared_exponential_kernel(d, 50) #100\n",
    "\n",
    "    return k\n",
    "\n",
    "\n",
    "################################################################################\n",
    "\n",
    "# Mean function: Two-Element piecewise function\n",
    "def mean2(x,hps,obj):\n",
    "\n",
    "    total_num_of_NN_hps = obj.args[1]\n",
    "\n",
    "    x0 = hps[total_num_of_NN_hps+4]\n",
    "    \n",
    "    m1 = hps[total_num_of_NN_hps+5]\n",
    "    m2 = hps[total_num_of_NN_hps+6]\n",
    "\n",
    "    b1  = 360\n",
    "    b2 = (m1 - m2) * x0 + b1\n",
    "\n",
    "    x = x[:,0]\n",
    "\n",
    "    y = np.where(x <= x0, m1*x + b1, m2*x + b2)\n",
    "                \n",
    "    return y"
   ]
  },
  {
   "cell_type": "markdown",
   "id": "9bb468ba",
   "metadata": {},
   "source": [
    "# Training the Model"
   ]
  },
  {
   "cell_type": "code",
   "execution_count": 7,
   "id": "49358f9f",
   "metadata": {},
   "outputs": [
    {
     "name": "stdout",
     "output_type": "stream",
     "text": [
      "x data:  (500, 1)\n",
      "y data:  (500, 1)\n",
      "Training is Done\n"
     ]
    }
   ],
   "source": [
    "x_pred = np.linspace(0,600,1001).reshape(-1,1)\n",
    "\n",
    "nodes_num = n.nodes_num\n",
    "\n",
    "total_num_of_NN_hps = nodes_num**2 + 4*nodes_num + 1     # Depends on the number of layers used\n",
    "num_of_other_hps = 7                                     # Depends on Kernel, noise and mean functions\n",
    "\n",
    "NN_weights_initial_hps = np.random.uniform(0, 2,nodes_num**2+2*nodes_num)\n",
    "NN_biases_initial_hps = np.random.uniform(0, 2,total_num_of_NN_hps-(nodes_num**2+2*nodes_num))\n",
    "\n",
    "\n",
    "other_init_hps = np.array([3000,                   # Kernel\n",
    "                          9e-2, 2.09, 0.02,        # Noise\n",
    "                          250,-0.1,-0.3])         # Mean\n",
    "\n",
    "\n",
    "\n",
    "init_hyperparameters = np.concatenate([NN_weights_initial_hps,NN_biases_initial_hps,other_init_hps])\n",
    "\n",
    "\n",
    "trained_hyperparameters = np.array([0.157, 0.149, 0.029, 0.061, 0.016, 0.219, 0.436, 0.148, 0.461, 1.772, 1.945, 0.084,\n",
    "                         1.743, 0.731, 1.881, 1.342, 1.015, 0.982, 1.795, 0.4,   1.062, 0.753, 1.052, 1.252,\n",
    "                         1.557, 0.708, 0.149, 1.348, 1.481, 0.568, 0.028, 0.036, 0.107, 0.05,  0.101,\n",
    "                         1.168, 1.915, 0.184, 0.145, 0.893, 0.377, 1.289, 0.911, 1.971, 0.339, 1.573,\n",
    "                         1407.5, 0.,    2.164, 1.79, 2.79012e+02, -7.40000e-02, -8.30000e-02])\n",
    "\n",
    "# Preparing the data\n",
    "data_size = 10 # How many battery data sets to use for training\n",
    "\n",
    "# Initializing the Seed\n",
    "#rng = default_rng()\n",
    "#numbers = rng.choice(num_of_datasets, data_size, replace=False)\n",
    "# Making it random all the time\n",
    "#numbers = random.sample(range(num_of_datasets), data_size)\n",
    "numbers = np.array([0,1,2,3,4,5,6,7,8,9])\n",
    "energy = energy_data[numbers]\n",
    "\n",
    "\n",
    "x_data = np.tile(cycle_number, data_size).reshape(-1, 1)   # repeat cycle 20 times to create x_data\n",
    "y_data = np.vstack(energy).reshape(-1, 1)                  # stack energy rows to create y_data\n",
    "\n",
    "\n",
    "\n",
    "print(\"x data: \", x_data.shape)\n",
    "print(\"y data: \", y_data.shape)\n",
    "\n",
    "    \n",
    "my_gpNN = GPOptimizer(x_data,y_data,\n",
    "            #init_hyperparameters = init_hyperparameters,  # we need enough of those for kernel, noise and prior mean functions\n",
    "            init_hyperparameters = trained_hyperparameters,  # we need enough of those for kernel, noise and prior mean functions\n",
    "            compute_device='cpu', \n",
    "            gp_kernel_function=kernel_nn, \n",
    "            gp_kernel_function_grad=None, \n",
    "            gp_mean_function=mean2, \n",
    "            gp_mean_function_grad=None,\n",
    "            gp_noise_function=my_noise,\n",
    "            normalize_y=False,\n",
    "            sparse_mode=False,\n",
    "            gp2Scale = False,\n",
    "            store_inv=False, \n",
    "            ram_economy=False, \n",
    "            args=np.array([nodes_num,total_num_of_NN_hps]))\n",
    "\n",
    "# Setting the Optimization Bounds for Hyperparameters\n",
    "bounds = np.empty((total_num_of_NN_hps + num_of_other_hps,2))\n",
    "\n",
    "# NN\n",
    "bounds[0:nodes_num**2+2*nodes_num] = np.array([0.,2.])                      # Weights NN: Define spread and shift in output\n",
    "bounds[nodes_num**2+2*nodes_num:total_num_of_NN_hps] = np.array([0.,2.])    # Biases of NN: Define shift in output\n",
    "\n",
    "# Kernel Sq Exp \n",
    "bounds[total_num_of_NN_hps] = np.array([500.,7000.])                             # Kernel Variance\n",
    "\n",
    "# Noise\n",
    "bounds[total_num_of_NN_hps+1] = np.array([1e-5,15.])                           # Noise Slope\n",
    "bounds[total_num_of_NN_hps+2] = np.array([1e-3,5.])                            # Noise Power\n",
    "bounds[total_num_of_NN_hps+3] = np.array([0.,5.])                              # Noise Intercept\n",
    "# Mean\n",
    "bounds[total_num_of_NN_hps+4] = np.array([200.,450.])                          # Mean Piecewise Intersection point\n",
    "bounds[total_num_of_NN_hps+5] = np.array([-1e-1,-6e-2])                        # Mean Slope 1\n",
    "bounds[total_num_of_NN_hps+6] = np.array([-3e-1,-1e-3])                        # Mean Slope 2\n",
    "\n",
    "\n",
    "\n",
    "my_gpNN.train(hyperparameter_bounds=bounds,method=\"global\")#,max_iter = 50)#\n",
    "\n",
    "print(\"Training is Done\")\n"
   ]
  },
  {
   "cell_type": "code",
   "execution_count": 9,
   "id": "2705d55c",
   "metadata": {},
   "outputs": [],
   "source": [
    "#let's make predictions\n",
    "meanNN = my_gpNN.posterior_mean(x_pred)[\"f(x)\"]\n",
    "varNN =  my_gpNN.posterior_covariance(x_pred, add_noise=True)[\"v(x)\"]\n",
    "\n",
    "#and plot the normalized data\n",
    "#plt.figure(figsize = (16,10))\n",
    "\n",
    "plt.plot(x_pred,meanNN, color=\"red\", label = \"Posterior Mean\", linewidth = 4)\n",
    "plt.fill_between(np.squeeze(x_pred), meanNN - 2. * np.sqrt(varNN), meanNN + 2. * np.sqrt(varNN), alpha = 0.5, color = \"grey\", label = \"var\")\n",
    "plt.scatter(x_data,y_data)\n",
    "plt.legend()\n",
    "plt.xlim([0,np.max(x_pred)])\n",
    "plt.title(\"Fitted Model\")\n",
    "plt.xlabel(\"Cycle Number\")\n",
    "plt.ylabel(\"Energy\")\n",
    "plt.savefig('/results/Dataset 1 Figures/Training NN/GP Fit.png') # saving plot with a unique name "
   ]
  },
  {
   "cell_type": "code",
   "execution_count": 82,
   "id": "e1e1de44",
   "metadata": {},
   "outputs": [
    {
     "data": {
      "text/plain": [
       "Text(0.5, 1.0, 'Cycle Number')"
      ]
     },
     "execution_count": 82,
     "metadata": {},
     "output_type": "execute_result"
    },
    {
     "data": {
      "image/png": "[encoded data removed]",
      "text/plain": [
       "<Figure size 640x480 with 1 Axes>"
      ]
     },
     "metadata": {},
     "output_type": "display_data"
    }
   ],
   "source": [
    "x_pred_nn = n.forward(x_pred)\n",
    "\n",
    "plt.scatter(x_pred,x_pred_nn)\n",
    "plt.xlabel(\"Original\")\n",
    "plt.ylabel(\"Transformed\")\n",
    "plt.title(\"Cycle Number\")"
   ]
  },
  {
   "cell_type": "code",
   "execution_count": 83,
   "id": "ada0a56f",
   "metadata": {
    "scrolled": true
   },
   "outputs": [
    {
     "name": "stdout",
     "output_type": "stream",
     "text": [
      "NN Weights: \n",
      "[0.157 0.149 0.029 0.061 0.016 0.219 0.436 0.148 0.461 1.772 1.945 0.084\n",
      " 1.743 0.731 1.881 1.342 1.015 0.982 1.795 0.4   1.062 0.753 1.052 1.252\n",
      " 1.557 0.708 0.149 1.348 1.481 0.568 0.028 0.036 0.107 0.05  0.101]\n",
      " \n",
      "NN Biases: \n",
      "[1.168 1.915 0.184 0.145 0.893 0.377 1.289 0.911 1.971 0.339 1.573]\n",
      " \n",
      "Sq. Expo Kernel: \n",
      "[1407.5]\n",
      " \n",
      "Noise: \n",
      "[0.    2.164 1.79 ]\n",
      " \n",
      "Mean: \n",
      "[ 2.79012e+02 -7.40000e-02 -8.30000e-02]\n"
     ]
    }
   ],
   "source": [
    "my_hyperparameter = my_gpNN.hyperparameters\n",
    "\n",
    "print(\"NN Weights: \")\n",
    "print(np.round(my_hyperparameter[0:nodes_num**2+nodes_num*2],3))\n",
    "\n",
    "print(\" \")\n",
    "\n",
    "print(\"NN Biases: \")\n",
    "print(np.round(my_hyperparameter[nodes_num**2+nodes_num*2:total_num_of_NN_hps],3))\n",
    "\n",
    "print(\" \")\n",
    "\n",
    "print(\"Sq. Expo Kernel: \")\n",
    "print(np.round(my_hyperparameter[total_num_of_NN_hps:total_num_of_NN_hps+1],3))\n",
    "\n",
    "#print(\"Sq. Expo Kernel lengthscale: \")\n",
    "#print(np.round(my_hyperparameter[total_num_of_NN_hps+7],3))\n",
    "\n",
    "print(\" \")\n",
    "\n",
    "print(\"Noise: \")\n",
    "print(np.round(my_hyperparameter[total_num_of_NN_hps+1:total_num_of_NN_hps+4],3))\n",
    "\n",
    "print(\" \")\n",
    "\n",
    "print(\"Mean: \")\n",
    "print(np.round(my_hyperparameter[total_num_of_NN_hps+4:total_num_of_NN_hps+7],3))\n"
   ]
  },
  {
   "cell_type": "code",
   "execution_count": 87,
   "id": "c13cbbd8",
   "metadata": {},
   "outputs": [
    {
     "data": {
      "text/plain": [
       "Text(0.5, 1.0, 'Trained Prior Mean')"
      ]
     },
     "execution_count": 87,
     "metadata": {},
     "output_type": "execute_result"
    },
    {
     "data": {
      "image/png": "[encoded data removed]",
      "text/plain": [
       "<Figure size 640x480 with 1 Axes>"
      ]
     },
     "metadata": {},
     "output_type": "display_data"
    }
   ],
   "source": [
    "my_prior_mean = mean2(x_pred,my_hyperparameter,my_gpNN)\n",
    "\n",
    "plt.plot(x_pred,my_prior_mean)\n",
    "plt.scatter(x_data[0:501],y_data[0:501])\n",
    "plt.ylabel(\"Original Energy\")\n",
    "plt.xlabel(\"Transformed Cycle Number\")\n",
    "plt.title(\"Trained Prior Mean\")"
   ]
  },
  {
   "cell_type": "code",
   "execution_count": 86,
   "id": "5b674ae6",
   "metadata": {},
   "outputs": [
    {
     "name": "stdout",
     "output_type": "stream",
     "text": [
      "0.000408910962797826\n",
      "2.164290430105319\n",
      "1.7902057510110496\n"
     ]
    },
    {
     "data": {
      "text/plain": [
       "Text(0, 0.5, 'Energy Standard Deviation')"
      ]
     },
     "execution_count": 86,
     "metadata": {},
     "output_type": "execute_result"
    },
    {
     "data": {
      "image/png": "[encoded data removed]",
      "text/plain": [
       "<Figure size 640x480 with 1 Axes>"
      ]
     },
     "metadata": {},
     "output_type": "display_data"
    }
   ],
   "source": [
    "data_varaibility = np.var(energy,axis=0).reshape(-1,1)\n",
    "data_std = np.sqrt(data_varaibility)\n",
    "\n",
    "\n",
    "my_slope  = my_hyperparameter[total_num_of_NN_hps+1]\n",
    "my_pow    = my_hyperparameter[total_num_of_NN_hps+2]\n",
    "my_offset = my_hyperparameter[total_num_of_NN_hps+3]\n",
    "\n",
    "\n",
    "print(my_slope)\n",
    "print(my_pow)\n",
    "print(my_offset)\n",
    "\n",
    "predicted_variability =s(cycle_number, my_slope, my_pow, my_offset)\n",
    "\n",
    "plt.scatter(cycle_number,data_varaibility)\n",
    "plt.plot(cycle_number,predicted_variability)\n",
    "plt.xlabel(\"Cycle Number\")\n",
    "plt.ylabel(\"Energy Standard Deviation\")\n",
    "#plt.ylim([-10, 50])"
   ]
  },
  {
   "cell_type": "code",
   "execution_count": null,
   "id": "1355f09f",
   "metadata": {},
   "outputs": [],
   "source": []
  }
 ],
 "metadata": {
  "kernelspec": {
   "display_name": "Python 3 (ipykernel)",
   "language": "python",
   "name": "python3"
  },
  "language_info": {
   "codemirror_mode": {
    "name": "ipython",
    "version": 3
   },
   "file_extension": ".py",
   "mimetype": "text/x-python",
   "name": "python",
   "nbconvert_exporter": "python",
   "pygments_lexer": "ipython3",
   "version": "3.9.12"
  }
 },
 "nbformat": 4,
 "nbformat_minor": 5
}
